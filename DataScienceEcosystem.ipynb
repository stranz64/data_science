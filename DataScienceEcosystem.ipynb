{
 "cells": [
  {
   "attachments": {},
   "cell_type": "markdown",
   "metadata": {},
   "source": [
    "<h1> Data Science Tools and Ecosystem </h1>"
   ]
  },
  {
   "attachments": {},
   "cell_type": "markdown",
   "metadata": {},
   "source": [
    "<h3> This is my first notebook, I'll be mentioning some of the tools commonly used on data science and add a brief text about insights on the relationship between data science and the technology ecosystem. </h3>"
   ]
  },
  {
   "attachments": {},
   "cell_type": "markdown",
   "metadata": {},
   "source": [
    "<h3><b>Objectives:</b><br>\n",
    "<ordered list>\n",
    "<li> List of most common data science languages </li>\n",
    "<li> List of most common data science libraries </li>\n",
    "<li> Table with data science tools </li>\n",
    "<li> Code: simple arithmetic operation</li>\n",
    "<li> Code: convert minutes to hours</li>\n",
    "</ordered list>\n",
    "</h3>\n"
   ]
  },
  {
   "attachments": {},
   "cell_type": "markdown",
   "metadata": {},
   "source": [
    "<h3> Some of the most common languages used in data science are:\n",
    "<ordered list>\n",
    "<li> Phyton </li>\n",
    "<li> R </li>\n",
    "<li> SQL </li>\n",
    "<li> C++ </li>\n",
    "</ordered list>\n",
    "</h3>"
   ]
  },
  {
   "attachments": {},
   "cell_type": "markdown",
   "metadata": {},
   "source": [
    "<h3> Also, some of the most common libraries used by data scientists are:\n",
    "<ordered list>\n",
    "<li> Panda </li>\n",
    "<li> Keras </li>\n",
    "<li> TensorFlow </li>\n",
    "</ordered list>\n",
    "</h3>"
   ]
  },
  {
   "attachments": {},
   "cell_type": "markdown",
   "metadata": {},
   "source": [
    "| Data Science Tools |\n",
    "| --- |\n",
    "| Jupyter Notebooks |\n",
    "| Rstudio |\n",
    "| GitHub |"
   ]
  },
  {
   "attachments": {},
   "cell_type": "markdown",
   "metadata": {},
   "source": [
    "<h3> Here, I will mention some arithmetic function examples in Phyton. </h3>"
   ]
  },
  {
   "cell_type": "code",
   "execution_count": 7,
   "metadata": {},
   "outputs": [
    {
     "name": "stdout",
     "output_type": "stream",
     "text": [
      "17\n"
     ]
    }
   ],
   "source": [
    "#This is a simple arithmetic operation to multiply then add integers\n",
    "y = 3*4;\n",
    "y = y +(5);\n",
    "print (y);"
   ]
  },
  {
   "cell_type": "code",
   "execution_count": 8,
   "metadata": {},
   "outputs": [
    {
     "name": "stdout",
     "output_type": "stream",
     "text": [
      "3.3333333333333335 hours\n"
     ]
    }
   ],
   "source": [
    "#This code will convert a given number in minutes into hours as follows:\n",
    "#200 minutes to hours by dividing by 60\n",
    "y = 200/60;\n",
    "print (y, \"hours\");\n"
   ]
  },
  {
   "attachments": {},
   "cell_type": "markdown",
   "metadata": {},
   "source": [
    "<h2>Author</h2><br> Eduardo Hurtado "
   ]
  }
 ],
 "metadata": {
  "kernelspec": {
   "display_name": "Python 3",
   "language": "python",
   "name": "python3"
  },
  "language_info": {
   "codemirror_mode": {
    "name": "ipython",
    "version": 3
   },
   "file_extension": ".py",
   "mimetype": "text/x-python",
   "name": "python",
   "nbconvert_exporter": "python",
   "pygments_lexer": "ipython3",
   "version": "3.9.7"
  },
  "orig_nbformat": 4
 },
 "nbformat": 4,
 "nbformat_minor": 2
}
